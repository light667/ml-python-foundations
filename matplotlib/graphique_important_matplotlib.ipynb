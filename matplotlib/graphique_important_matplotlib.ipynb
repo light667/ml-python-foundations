{
 "cells": [
  {
   "cell_type": "markdown",
   "id": "b2fd08d4",
   "metadata": {},
   "source": [
    "Graphique de Classification : Scatter Classification"
   ]
  },
  {
   "cell_type": "code",
   "execution_count": null,
   "id": "ee05f0e8-cfdf-42ee-ad2d-069212e3d38f",
   "metadata": {},
   "outputs": [],
   "source": []
  }
 ],
 "metadata": {
  "kernelspec": {
   "display_name": "Python 3 (ipykernel)",
   "language": "python",
   "name": "python3"
  },
  "language_info": {
   "codemirror_mode": {
    "name": "ipython",
    "version": 3
   },
   "file_extension": ".py",
   "mimetype": "text/x-python",
   "name": "python",
   "nbconvert_exporter": "python",
   "pygments_lexer": "ipython3",
   "version": "3.12.7"
  }
 },
 "nbformat": 4,
 "nbformat_minor": 5
}
