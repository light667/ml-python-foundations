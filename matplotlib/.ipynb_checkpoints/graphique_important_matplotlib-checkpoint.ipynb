{
 "cells": [
  {
   "cell_type": "markdown",
   "id": "b2fd08d4",
   "metadata": {},
   "source": [
    "Graphique de Classification : Scatter Classification"
   ]
  }
 ],
 "metadata": {
  "language_info": {
   "name": "python"
  }
 },
 "nbformat": 4,
 "nbformat_minor": 5
}
