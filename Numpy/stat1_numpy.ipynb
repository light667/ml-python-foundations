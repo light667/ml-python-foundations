{
 "cells": [
  {
   "cell_type": "code",
   "execution_count": 70,
   "id": "51aacc4b-a11b-4e25-a3fd-2060d54c3e58",
   "metadata": {},
   "outputs": [],
   "source": [
    "import numpy as np\n",
    "import pandas as pd"
   ]
  },
  {
   "cell_type": "code",
   "execution_count": 71,
   "id": "511089d7-c3a5-4e20-b379-7ae26e4cdcf4",
   "metadata": {},
   "outputs": [
    {
     "data": {
      "text/plain": [
       "array([[ 0,  1,  2,  3,  4],\n",
       "       [12, 20,  5,  2,  1]])"
      ]
     },
     "execution_count": 71,
     "metadata": {},
     "output_type": "execute_result"
    }
   ],
   "source": [
    "tab = np.array(([0, 1, 2, 3, 4], [12, 20, 5, 2, 1]))\n",
    "tab"
   ]
  },
  {
   "cell_type": "code",
   "execution_count": 72,
   "id": "0cbabb60-d0e6-4731-bed7-7fea1b387af9",
   "metadata": {},
   "outputs": [
    {
     "data": {
      "text/plain": [
       "array([12, 32, 37, 39, 40])"
      ]
     },
     "execution_count": 72,
     "metadata": {},
     "output_type": "execute_result"
    }
   ],
   "source": [
    "effectif_cum_crois = tab.cumsum(axis=1)\n",
    "effectif_cum_crois = effectif_cum_crois[1, :]\n",
    "effectif_cum_crois"
   ]
  },
  {
   "cell_type": "code",
   "execution_count": 73,
   "id": "a1acc850-8f23-4823-8dd7-c5b9364f65aa",
   "metadata": {},
   "outputs": [
    {
     "data": {
      "text/plain": [
       "array([40., 28.,  8.,  3.,  1.])"
      ]
     },
     "execution_count": 73,
     "metadata": {},
     "output_type": "execute_result"
    }
   ],
   "source": [
    "tab2 = tab[1, -1:-6:-1]\n",
    "effectif_cum_dec = np.array([])\n",
    "som = 0\n",
    "for i in tab2:\n",
    "    som = som + i\n",
    "    effectif_cum_dec = np.append(effectif_cum_dec , np.array([som]), axis = 0)\n",
    "effectif_cum_dec = effectif_cum_dec[::-1]\n",
    "effectif_cum_dec"
   ]
  },
  {
   "cell_type": "code",
   "execution_count": 74,
   "id": "ce240100-825d-40e5-ab7a-0f344c70a50b",
   "metadata": {},
   "outputs": [
    {
     "data": {
      "text/plain": [
       "array([30. , 50. , 12.5,  5. ,  2.5])"
      ]
     },
     "execution_count": 74,
     "metadata": {},
     "output_type": "execute_result"
    }
   ],
   "source": [
    "# frequence = ni / n * 100\n",
    "ni = tab[1]\n",
    "frequence = (ni / ni.sum()) * 100\n",
    "frequence"
   ]
  },
  {
   "cell_type": "code",
   "execution_count": 75,
   "id": "7f88824b-53b1-4735-9708-b0c510c05754",
   "metadata": {},
   "outputs": [
    {
     "data": {
      "text/plain": [
       "array([ 30. ,  80. ,  92.5,  97.5, 100. ])"
      ]
     },
     "execution_count": 75,
     "metadata": {},
     "output_type": "execute_result"
    }
   ],
   "source": [
    "# frequenc cumulé croissant\n",
    "fcc = effectif_cum_crois / ni.sum() * 100\n",
    "fcc"
   ]
  },
  {
   "cell_type": "code",
   "execution_count": 88,
   "id": "d7ef0479-c43e-4432-b186-39f1a413a56e",
   "metadata": {},
   "outputs": [
    {
     "data": {
      "text/plain": [
       "array([100. ,  70. ,  20. ,   7.5,   2.5])"
      ]
     },
     "execution_count": 88,
     "metadata": {},
     "output_type": "execute_result"
    }
   ],
   "source": [
    "# frequence cumulé decroissant \n",
    "fcd = effectif_cum_dec / ni.sum() * 100\n",
    "fcd"
   ]
  },
  {
   "cell_type": "code",
   "execution_count": 89,
   "id": "807b9393-3b7d-4b91-85e7-e48c5c1b7594",
   "metadata": {},
   "outputs": [
    {
     "data": {
      "text/plain": [
       "array([[  0. ,   1. ,   2. ,   3. ,   4. ],\n",
       "       [ 12. ,  20. ,   5. ,   2. ,   1. ],\n",
       "       [ 12. ,  32. ,  37. ,  39. ,  40. ],\n",
       "       [ 40. ,  28. ,   8. ,   3. ,   1. ],\n",
       "       [ 30. ,  50. ,  12.5,   5. ,   2.5],\n",
       "       [ 30. ,  80. ,  92.5,  97.5, 100. ],\n",
       "       [100. ,  70. ,  20. ,   7.5,   2.5]])"
      ]
     },
     "execution_count": 89,
     "metadata": {},
     "output_type": "execute_result"
    }
   ],
   "source": [
    "tabf = np.vstack((tab ,effectif_cum_crois,  effectif_cum_dec , frequence, fcc , fcd))\n",
    "tabf"
   ]
  },
  {
   "cell_type": "code",
   "execution_count": 90,
   "id": "85419019-a997-4846-be57-3a788651c16b",
   "metadata": {},
   "outputs": [
    {
     "data": {
      "text/html": [
       "<div>\n",
       "<style scoped>\n",
       "    .dataframe tbody tr th:only-of-type {\n",
       "        vertical-align: middle;\n",
       "    }\n",
       "\n",
       "    .dataframe tbody tr th {\n",
       "        vertical-align: top;\n",
       "    }\n",
       "\n",
       "    .dataframe thead th {\n",
       "        text-align: right;\n",
       "    }\n",
       "</style>\n",
       "<table border=\"1\" class=\"dataframe\">\n",
       "  <thead>\n",
       "    <tr style=\"text-align: right;\">\n",
       "      <th></th>\n",
       "      <th>0</th>\n",
       "      <th>1</th>\n",
       "      <th>2</th>\n",
       "      <th>3</th>\n",
       "      <th>4</th>\n",
       "    </tr>\n",
       "  </thead>\n",
       "  <tbody>\n",
       "    <tr>\n",
       "      <th>ni</th>\n",
       "      <td>12.0</td>\n",
       "      <td>20.0</td>\n",
       "      <td>5.0</td>\n",
       "      <td>2.0</td>\n",
       "      <td>1.0</td>\n",
       "    </tr>\n",
       "    <tr>\n",
       "      <th>nic</th>\n",
       "      <td>12.0</td>\n",
       "      <td>32.0</td>\n",
       "      <td>37.0</td>\n",
       "      <td>39.0</td>\n",
       "      <td>40.0</td>\n",
       "    </tr>\n",
       "    <tr>\n",
       "      <th>nid</th>\n",
       "      <td>40.0</td>\n",
       "      <td>28.0</td>\n",
       "      <td>8.0</td>\n",
       "      <td>3.0</td>\n",
       "      <td>1.0</td>\n",
       "    </tr>\n",
       "    <tr>\n",
       "      <th>fi(%)</th>\n",
       "      <td>30.0</td>\n",
       "      <td>50.0</td>\n",
       "      <td>12.5</td>\n",
       "      <td>5.0</td>\n",
       "      <td>2.5</td>\n",
       "    </tr>\n",
       "    <tr>\n",
       "      <th>fic(%)</th>\n",
       "      <td>30.0</td>\n",
       "      <td>80.0</td>\n",
       "      <td>92.5</td>\n",
       "      <td>97.5</td>\n",
       "      <td>100.0</td>\n",
       "    </tr>\n",
       "    <tr>\n",
       "      <th>fid(%)</th>\n",
       "      <td>100.0</td>\n",
       "      <td>70.0</td>\n",
       "      <td>20.0</td>\n",
       "      <td>7.5</td>\n",
       "      <td>2.5</td>\n",
       "    </tr>\n",
       "  </tbody>\n",
       "</table>\n",
       "</div>"
      ],
      "text/plain": [
       "            0     1     2     3      4\n",
       "ni       12.0  20.0   5.0   2.0    1.0\n",
       "nic      12.0  32.0  37.0  39.0   40.0\n",
       "nid      40.0  28.0   8.0   3.0    1.0\n",
       "fi(%)    30.0  50.0  12.5   5.0    2.5\n",
       "fic(%)   30.0  80.0  92.5  97.5  100.0\n",
       "fid(%)  100.0  70.0  20.0   7.5    2.5"
      ]
     },
     "execution_count": 90,
     "metadata": {},
     "output_type": "execute_result"
    }
   ],
   "source": [
    "pd.DataFrame({'0': tabf[1:, 0], '1': tabf[1:, 1], '2': tabf[1:, 2], '3': tabf[1:, 3], '4': tabf[1:, 4]} , index = ['ni','nic','nid','fi(%)','fic(%)', 'fid(%)'])"
   ]
  },
  {
   "cell_type": "code",
   "execution_count": null,
   "id": "f3f44c20-8448-4459-8639-677e9d40f85f",
   "metadata": {},
   "outputs": [],
   "source": []
  }
 ],
 "metadata": {
  "kernelspec": {
   "display_name": "Python 3 (ipykernel)",
   "language": "python",
   "name": "python3"
  },
  "language_info": {
   "codemirror_mode": {
    "name": "ipython",
    "version": 3
   },
   "file_extension": ".py",
   "mimetype": "text/x-python",
   "name": "python",
   "nbconvert_exporter": "python",
   "pygments_lexer": "ipython3",
   "version": "3.12.7"
  }
 },
 "nbformat": 4,
 "nbformat_minor": 5
}
