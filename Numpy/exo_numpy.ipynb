{
 "cells": [
  {
   "cell_type": "raw",
   "id": "e2cb7a84-0417-4d20-b978-9d83ecc1e32c",
   "metadata": {},
   "source": [
    "EXERCICE\n",
    "\n",
    "creer une fonction initialisation qui prendra comme parametre : m, n \n",
    "m = nombre de ligne\n",
    "n = nombre de colonnes\n",
    "la fonction retourne une matrice aléatoire (m, n+1)\n",
    "avec une colonne biais (rempli de '1' ) tout a droite"
   ]
  },
  {
   "cell_type": "markdown",
   "id": "0088cf0b-cffd-44ed-993e-c11f2653ac26",
   "metadata": {},
   "source": [
    "les fonctions à utiliser sont reshape , random.randn, concatenate"
   ]
  },
  {
   "cell_type": "code",
   "execution_count": 3,
   "id": "dc6300bd-82d1-4dc6-bb39-40e2c0dfe62e",
   "metadata": {},
   "outputs": [],
   "source": [
    "import numpy as np"
   ]
  },
  {
   "cell_type": "code",
   "execution_count": 7,
   "id": "8ceba771-fb3a-4faf-9681-e1781f74d60b",
   "metadata": {},
   "outputs": [
    {
     "name": "stdout",
     "output_type": "stream",
     "text": [
      "[[-1.31064729  0.20309711 -1.06968313 -0.77333368  1.        ]\n",
      " [ 0.482833   -0.77625809 -0.33845417 -1.03903669  1.        ]\n",
      " [ 0.0917642  -0.7296446  -0.84075451  0.49147038  1.        ]]\n"
     ]
    }
   ],
   "source": [
    "def initialisation(m, n):\n",
    "    matrice = np.random.randn(m, n)\n",
    "    one = np.ones((m, 1))\n",
    "    matrice = np.concatenate((matrice, one), axis = 1)\n",
    "    matrice.reshape(m, n+1)\n",
    "    return matrice\n",
    "print(initialisation(3, 4))"
   ]
  },
  {
   "cell_type": "code",
   "execution_count": null,
   "id": "ab1f8530-df4f-451c-a4bf-a164eddb073c",
   "metadata": {},
   "outputs": [],
   "source": []
  }
 ],
 "metadata": {
  "kernelspec": {
   "display_name": "Python 3 (ipykernel)",
   "language": "python",
   "name": "python3"
  },
  "language_info": {
   "codemirror_mode": {
    "name": "ipython",
    "version": 3
   },
   "file_extension": ".py",
   "mimetype": "text/x-python",
   "name": "python",
   "nbconvert_exporter": "python",
   "pygments_lexer": "ipython3",
   "version": "3.12.7"
  }
 },
 "nbformat": 4,
 "nbformat_minor": 5
}
