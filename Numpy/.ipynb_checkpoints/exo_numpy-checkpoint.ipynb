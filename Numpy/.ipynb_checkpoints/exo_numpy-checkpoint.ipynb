{
 "cells": [
  {
   "cell_type": "raw",
   "id": "e2cb7a84-0417-4d20-b978-9d83ecc1e32c",
   "metadata": {},
   "source": [
    "EXERCICE\n",
    "\n",
    "creer une fonction initialisation qui prendra comme parametre : m, n \n",
    "m = nombre de ligne\n",
    "n = nombre de colonnes\n",
    "la fonction retourne une matrice aléatoire (m, n+1)\n",
    "avec une colonne biais (rempli de '1' ) tout a droite"
   ]
  },
  {
   "cell_type": "markdown",
   "id": "ca3bbc84-f629-43a8-a321-b086d721049c",
   "metadata": {},
   "source": [
    "les fonctions à utiliser sont reshape , random.rondn, concatenate"
   ]
  },
  {
   "cell_type": "code",
   "execution_count": 2,
   "id": "dc6300bd-82d1-4dc6-bb39-40e2c0dfe62e",
   "metadata": {},
   "outputs": [],
   "source": [
    "import numpy as np"
   ]
  },
  {
   "cell_type": "code",
   "execution_count": null,
   "id": "8ceba771-fb3a-4faf-9681-e1781f74d60b",
   "metadata": {},
   "outputs": [],
   "source": [
    "def initialisation(m, n):\n",
    "    "
   ]
  }
 ],
 "metadata": {
  "kernelspec": {
   "display_name": "Python 3 (ipykernel)",
   "language": "python",
   "name": "python3"
  },
  "language_info": {
   "codemirror_mode": {
    "name": "ipython",
    "version": 3
   },
   "file_extension": ".py",
   "mimetype": "text/x-python",
   "name": "python",
   "nbconvert_exporter": "python",
   "pygments_lexer": "ipython3",
   "version": "3.12.7"
  }
 },
 "nbformat": 4,
 "nbformat_minor": 5
}
