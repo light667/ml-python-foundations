{
 "cells": [
  {
   "cell_type": "code",
   "execution_count": 77,
   "id": "51aacc4b-a11b-4e25-a3fd-2060d54c3e58",
   "metadata": {},
   "outputs": [],
   "source": [
    "import numpy as np"
   ]
  },
  {
   "cell_type": "code",
   "execution_count": 78,
   "id": "511089d7-c3a5-4e20-b379-7ae26e4cdcf4",
   "metadata": {},
   "outputs": [
    {
     "data": {
      "text/plain": [
       "array([[ 0,  1,  2,  3,  4],\n",
       "       [12, 20,  5,  2,  1]])"
      ]
     },
     "execution_count": 78,
     "metadata": {},
     "output_type": "execute_result"
    }
   ],
   "source": [
    "tab = np.array(([0, 1, 2, 3, 4], [12, 20, 5, 2, 1]))\n",
    "tab"
   ]
  },
  {
   "cell_type": "code",
   "execution_count": 79,
   "id": "0cbabb60-d0e6-4731-bed7-7fea1b387af9",
   "metadata": {},
   "outputs": [
    {
     "data": {
      "text/plain": [
       "array([[ 0,  1,  3,  6, 10],\n",
       "       [12, 32, 37, 39, 40]])"
      ]
     },
     "execution_count": 79,
     "metadata": {},
     "output_type": "execute_result"
    }
   ],
   "source": [
    "effectif_cum_crois = tab.cumsum(axis=1)\n",
    "effectif_cum_crois"
   ]
  },
  {
   "cell_type": "code",
   "execution_count": 80,
   "id": "ce240100-825d-40e5-ab7a-0f344c70a50b",
   "metadata": {},
   "outputs": [
    {
     "data": {
      "text/plain": [
       "array([30. , 50. , 12.5,  5. ,  2.5])"
      ]
     },
     "execution_count": 80,
     "metadata": {},
     "output_type": "execute_result"
    }
   ],
   "source": [
    "# frequence = ni / n * 100\n",
    "ni = tab[1]\n",
    "frequence = (ni / ni.sum()) * 100\n",
    "frequence"
   ]
  },
  {
   "cell_type": "code",
   "execution_count": 81,
   "id": "7f88824b-53b1-4735-9708-b0c510c05754",
   "metadata": {},
   "outputs": [
    {
     "data": {
      "text/plain": [
       "array([ 30. ,  80. ,  92.5,  97.5, 100. ])"
      ]
     },
     "execution_count": 81,
     "metadata": {},
     "output_type": "execute_result"
    }
   ],
   "source": [
    "# frequenc cumulé croissant\n",
    "fcc = (effectif_cum_crois[1] / ni.sum()) * 100\n",
    "fcc"
   ]
  },
  {
   "cell_type": "code",
   "execution_count": 82,
   "id": "358601a2-7256-4d89-aaee-24cbb83fe4a6",
   "metadata": {},
   "outputs": [
    {
     "data": {
      "text/plain": [
       "' ou bien\\nprint(frequence.cumsum(axis=0)) '"
      ]
     },
     "execution_count": 82,
     "metadata": {},
     "output_type": "execute_result"
    }
   ],
   "source": [
    "\"\"\" ou bien\n",
    "print(frequence.cumsum(axis=0)) \"\"\""
   ]
  },
  {
   "cell_type": "code",
   "execution_count": 85,
   "id": "944a27bd-00e4-4aed-bf23-067242e5c0c1",
   "metadata": {},
   "outputs": [
    {
     "data": {
      "text/plain": [
       "array([[ 0,  1,  2,  3,  4],\n",
       "       [12, 20,  5,  2,  1],\n",
       "       [12, 32, 37, 39, 40]])"
      ]
     },
     "execution_count": 85,
     "metadata": {},
     "output_type": "execute_result"
    }
   ],
   "source": [
    "tab = np.append(tab, effectif_cum_crois[1, :].reshape(1, -1),axis =0)\n",
    "tab"
   ]
  },
  {
   "cell_type": "code",
   "execution_count": 89,
   "id": "807b9393-3b7d-4b91-85e7-e48c5c1b7594",
   "metadata": {},
   "outputs": [
    {
     "data": {
      "text/plain": [
       "array([[  0. ,   1. ,   2. ,   3. ,   4. ],\n",
       "       [ 12. ,  20. ,   5. ,   2. ,   1. ],\n",
       "       [ 12. ,  32. ,  37. ,  39. ,  40. ],\n",
       "       [ 30. ,  50. ,  12.5,   5. ,   2.5],\n",
       "       [ 30. ,  80. ,  92.5,  97.5, 100. ]])"
      ]
     },
     "execution_count": 89,
     "metadata": {},
     "output_type": "execute_result"
    }
   ],
   "source": [
    "tabf = np.vstack((tab , frequence, fcc ))\n",
    "tabf"
   ]
  },
  {
   "cell_type": "code",
   "execution_count": null,
   "id": "85419019-a997-4846-be57-3a788651c16b",
   "metadata": {},
   "outputs": [],
   "source": []
  }
 ],
 "metadata": {
  "kernelspec": {
   "display_name": "Python 3 (ipykernel)",
   "language": "python",
   "name": "python3"
  },
  "language_info": {
   "codemirror_mode": {
    "name": "ipython",
    "version": 3
   },
   "file_extension": ".py",
   "mimetype": "text/x-python",
   "name": "python",
   "nbconvert_exporter": "python",
   "pygments_lexer": "ipython3",
   "version": "3.12.7"
  }
 },
 "nbformat": 4,
 "nbformat_minor": 5
}
